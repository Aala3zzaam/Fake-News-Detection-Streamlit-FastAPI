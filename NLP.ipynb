{
 "cells": [
  {
   "cell_type": "code",
   "execution_count": 1,
   "id": "b489d187-c4a1-4cf9-be91-981143df54bc",
   "metadata": {},
   "outputs": [],
   "source": [
    "import re\n",
    "import nltk\n",
    "import numpy as np\n",
    "import pandas as pd\n",
    "import seaborn as sns\n",
    "import matplotlib.pyplot as plt\n",
    "from nltk.corpus import stopwords\n",
    "from sklearn.svm import LinearSVC\n",
    "from nltk.stem import WordNetLemmatizer\n",
    "from nltk.tokenize import RegexpTokenizer\n",
    "from sklearn.pipeline import make_pipeline\n",
    "from sklearn.naive_bayes import MultinomialNB\n",
    "from sklearn.linear_model import LogisticRegression\n",
    "from sklearn.ensemble import RandomForestClassifier\n",
    "from sklearn.model_selection import train_test_split, cross_val_score, cross_val_predict\n",
    "from sklearn.feature_extraction.text import TfidfVectorizer\n",
    "from sklearn.metrics import confusion_matrix, accuracy_score, classification_report"
   ]
  },
  {
   "cell_type": "code",
   "execution_count": 2,
   "id": "4f60eb39-d6fd-42f8-a7c0-36b3a9e0b59d",
   "metadata": {},
   "outputs": [],
   "source": [
    "fake_df = pd.read_csv(\"Fake.csv\")\n",
    "true_df = pd.read_csv(\"True.csv\")\n",
    "\n",
    "fake_df[\"label\"] = 0 \n",
    "true_df[\"label\"] = 1 \n",
    "\n",
    "df = pd.concat([fake_df,true_df])\n",
    "df = df.sample(frac=1).reset_index(drop=True)"
   ]
  },
  {
   "cell_type": "code",
   "execution_count": 3,
   "id": "746a1fe6-3499-4bc8-9b48-440e54efeaae",
   "metadata": {},
   "outputs": [
    {
     "name": "stdout",
     "output_type": "stream",
     "text": [
      "<class 'pandas.core.frame.DataFrame'>\n",
      "RangeIndex: 44898 entries, 0 to 44897\n",
      "Data columns (total 5 columns):\n",
      " #   Column   Non-Null Count  Dtype \n",
      "---  ------   --------------  ----- \n",
      " 0   title    44898 non-null  object\n",
      " 1   text     44898 non-null  object\n",
      " 2   subject  44898 non-null  object\n",
      " 3   date     44898 non-null  object\n",
      " 4   label    44898 non-null  int64 \n",
      "dtypes: int64(1), object(4)\n",
      "memory usage: 1.7+ MB\n"
     ]
    }
   ],
   "source": [
    "df.info()"
   ]
  },
  {
   "cell_type": "code",
   "execution_count": 4,
   "id": "e756f988-efef-423b-ab5a-86f20d0cabbb",
   "metadata": {},
   "outputs": [
    {
     "data": {
      "text/plain": [
       "title      0\n",
       "text       0\n",
       "subject    0\n",
       "date       0\n",
       "label      0\n",
       "dtype: int64"
      ]
     },
     "execution_count": 4,
     "metadata": {},
     "output_type": "execute_result"
    }
   ],
   "source": [
    "df.isnull().sum()"
   ]
  },
  {
   "cell_type": "code",
   "execution_count": 5,
   "id": "4b9472af-f208-47e0-a964-cda7d9e8ab1d",
   "metadata": {},
   "outputs": [
    {
     "data": {
      "text/html": [
       "<div>\n",
       "<style scoped>\n",
       "    .dataframe tbody tr th:only-of-type {\n",
       "        vertical-align: middle;\n",
       "    }\n",
       "\n",
       "    .dataframe tbody tr th {\n",
       "        vertical-align: top;\n",
       "    }\n",
       "\n",
       "    .dataframe thead th {\n",
       "        text-align: right;\n",
       "    }\n",
       "</style>\n",
       "<table border=\"1\" class=\"dataframe\">\n",
       "  <thead>\n",
       "    <tr style=\"text-align: right;\">\n",
       "      <th></th>\n",
       "      <th>text</th>\n",
       "      <th>title</th>\n",
       "      <th>label</th>\n",
       "    </tr>\n",
       "  </thead>\n",
       "  <tbody>\n",
       "    <tr>\n",
       "      <th>0</th>\n",
       "      <td>WASHINGTON (Reuters) - Senate Republican leade...</td>\n",
       "      <td>U.S. tax bill should include repeal of health ...</td>\n",
       "      <td>1</td>\n",
       "    </tr>\n",
       "    <tr>\n",
       "      <th>1</th>\n",
       "      <td>Career criminals professional grifters the ult...</td>\n",
       "      <td>PRICELESS: Watch Bill Clinton Defend Hillary’s...</td>\n",
       "      <td>0</td>\n",
       "    </tr>\n",
       "    <tr>\n",
       "      <th>2</th>\n",
       "      <td>The Republican Party should be so fortunate, a...</td>\n",
       "      <td>IS CROOKED HILLARY Getting Ready To Compete Wi...</td>\n",
       "      <td>0</td>\n",
       "    </tr>\n",
       "    <tr>\n",
       "      <th>3</th>\n",
       "      <td>BEIRUT (Reuters) - An Iranian military vessel ...</td>\n",
       "      <td>U.S. denies Iran report of confrontation with ...</td>\n",
       "      <td>1</td>\n",
       "    </tr>\n",
       "    <tr>\n",
       "      <th>4</th>\n",
       "      <td>In response to the establishment media s con...</td>\n",
       "      <td>FAKE NEWS WEEK: Electronic Voting – The Big Li...</td>\n",
       "      <td>0</td>\n",
       "    </tr>\n",
       "  </tbody>\n",
       "</table>\n",
       "</div>"
      ],
      "text/plain": [
       "                                                text  \\\n",
       "0  WASHINGTON (Reuters) - Senate Republican leade...   \n",
       "1  Career criminals professional grifters the ult...   \n",
       "2  The Republican Party should be so fortunate, a...   \n",
       "3  BEIRUT (Reuters) - An Iranian military vessel ...   \n",
       "4    In response to the establishment media s con...   \n",
       "\n",
       "                                               title  label  \n",
       "0  U.S. tax bill should include repeal of health ...      1  \n",
       "1  PRICELESS: Watch Bill Clinton Defend Hillary’s...      0  \n",
       "2  IS CROOKED HILLARY Getting Ready To Compete Wi...      0  \n",
       "3  U.S. denies Iran report of confrontation with ...      1  \n",
       "4  FAKE NEWS WEEK: Electronic Voting – The Big Li...      0  "
      ]
     },
     "execution_count": 5,
     "metadata": {},
     "output_type": "execute_result"
    }
   ],
   "source": [
    "df = df[[\"text\", \"title\", \"label\"]].copy()\n",
    "df.head()"
   ]
  },
  {
   "cell_type": "code",
   "execution_count": 6,
   "id": "6d2e03a4-00d1-45a1-a655-67b12f3ad83c",
   "metadata": {},
   "outputs": [
    {
     "name": "stderr",
     "output_type": "stream",
     "text": [
      "[nltk_data] Downloading package punkt to C:\\Users\\Allaa\n",
      "[nltk_data]     Azzam\\AppData\\Roaming\\nltk_data...\n",
      "[nltk_data]   Package punkt is already up-to-date!\n",
      "[nltk_data] Downloading package stopwords to C:\\Users\\Allaa\n",
      "[nltk_data]     Azzam\\AppData\\Roaming\\nltk_data...\n",
      "[nltk_data]   Package stopwords is already up-to-date!\n",
      "[nltk_data] Downloading package wordnet to C:\\Users\\Allaa\n",
      "[nltk_data]     Azzam\\AppData\\Roaming\\nltk_data...\n",
      "[nltk_data]   Package wordnet is already up-to-date!\n"
     ]
    }
   ],
   "source": [
    "nltk.download('punkt')\n",
    "nltk.download('stopwords')\n",
    "nltk.download('wordnet')\n",
    "\n",
    "tokenizer = RegexpTokenizer(r'\\w+')\n",
    "stop_words = set(stopwords.words('english'))\n",
    "lemmatizer = WordNetLemmatizer()\n",
    "\n",
    "\n",
    "def preprocess(text):\n",
    "    text = text.lower()\n",
    "    text = re.sub(r'[^a-zA-Z]', ' ', text)\n",
    "    tokens = tokenizer.tokenize(text)\n",
    "    cleaned_text = [lemmatizer.lemmatize(w) for w in tokens if w not in stop_words and len(w)>2]\n",
    "    return ' '.join(cleaned_text)"
   ]
  },
  {
   "cell_type": "code",
   "execution_count": 7,
   "id": "b290e197-7b55-4221-bc27-6e5991f2a32d",
   "metadata": {},
   "outputs": [],
   "source": [
    "df[\"whole_text\"] = df[\"title\"] + \" \" + df[\"text\"]\n",
    "df[\"cleaned_text\"] = df[\"whole_text\"].apply(preprocess)"
   ]
  },
  {
   "cell_type": "code",
   "execution_count": 8,
   "id": "5be93d51-90a8-4c0d-86c5-22fa0fa05384",
   "metadata": {},
   "outputs": [
    {
     "data": {
      "text/html": [
       "<div>\n",
       "<style scoped>\n",
       "    .dataframe tbody tr th:only-of-type {\n",
       "        vertical-align: middle;\n",
       "    }\n",
       "\n",
       "    .dataframe tbody tr th {\n",
       "        vertical-align: top;\n",
       "    }\n",
       "\n",
       "    .dataframe thead th {\n",
       "        text-align: right;\n",
       "    }\n",
       "</style>\n",
       "<table border=\"1\" class=\"dataframe\">\n",
       "  <thead>\n",
       "    <tr style=\"text-align: right;\">\n",
       "      <th></th>\n",
       "      <th>text</th>\n",
       "      <th>title</th>\n",
       "      <th>label</th>\n",
       "      <th>whole_text</th>\n",
       "      <th>cleaned_text</th>\n",
       "    </tr>\n",
       "  </thead>\n",
       "  <tbody>\n",
       "    <tr>\n",
       "      <th>0</th>\n",
       "      <td>WASHINGTON (Reuters) - Senate Republican leade...</td>\n",
       "      <td>U.S. tax bill should include repeal of health ...</td>\n",
       "      <td>1</td>\n",
       "      <td>U.S. tax bill should include repeal of health ...</td>\n",
       "      <td>tax bill include repeal health insurance manda...</td>\n",
       "    </tr>\n",
       "    <tr>\n",
       "      <th>1</th>\n",
       "      <td>Career criminals professional grifters the ult...</td>\n",
       "      <td>PRICELESS: Watch Bill Clinton Defend Hillary’s...</td>\n",
       "      <td>0</td>\n",
       "      <td>PRICELESS: Watch Bill Clinton Defend Hillary’s...</td>\n",
       "      <td>priceless watch bill clinton defend hillary cr...</td>\n",
       "    </tr>\n",
       "    <tr>\n",
       "      <th>2</th>\n",
       "      <td>The Republican Party should be so fortunate, a...</td>\n",
       "      <td>IS CROOKED HILLARY Getting Ready To Compete Wi...</td>\n",
       "      <td>0</td>\n",
       "      <td>IS CROOKED HILLARY Getting Ready To Compete Wi...</td>\n",
       "      <td>crooked hillary getting ready compete creepy j...</td>\n",
       "    </tr>\n",
       "    <tr>\n",
       "      <th>3</th>\n",
       "      <td>BEIRUT (Reuters) - An Iranian military vessel ...</td>\n",
       "      <td>U.S. denies Iran report of confrontation with ...</td>\n",
       "      <td>1</td>\n",
       "      <td>U.S. denies Iran report of confrontation with ...</td>\n",
       "      <td>denies iran report confrontation vessel beirut...</td>\n",
       "    </tr>\n",
       "    <tr>\n",
       "      <th>4</th>\n",
       "      <td>In response to the establishment media s con...</td>\n",
       "      <td>FAKE NEWS WEEK: Electronic Voting – The Big Li...</td>\n",
       "      <td>0</td>\n",
       "      <td>FAKE NEWS WEEK: Electronic Voting – The Big Li...</td>\n",
       "      <td>fake news week electronic voting big lie die r...</td>\n",
       "    </tr>\n",
       "  </tbody>\n",
       "</table>\n",
       "</div>"
      ],
      "text/plain": [
       "                                                text  \\\n",
       "0  WASHINGTON (Reuters) - Senate Republican leade...   \n",
       "1  Career criminals professional grifters the ult...   \n",
       "2  The Republican Party should be so fortunate, a...   \n",
       "3  BEIRUT (Reuters) - An Iranian military vessel ...   \n",
       "4    In response to the establishment media s con...   \n",
       "\n",
       "                                               title  label  \\\n",
       "0  U.S. tax bill should include repeal of health ...      1   \n",
       "1  PRICELESS: Watch Bill Clinton Defend Hillary’s...      0   \n",
       "2  IS CROOKED HILLARY Getting Ready To Compete Wi...      0   \n",
       "3  U.S. denies Iran report of confrontation with ...      1   \n",
       "4  FAKE NEWS WEEK: Electronic Voting – The Big Li...      0   \n",
       "\n",
       "                                          whole_text  \\\n",
       "0  U.S. tax bill should include repeal of health ...   \n",
       "1  PRICELESS: Watch Bill Clinton Defend Hillary’s...   \n",
       "2  IS CROOKED HILLARY Getting Ready To Compete Wi...   \n",
       "3  U.S. denies Iran report of confrontation with ...   \n",
       "4  FAKE NEWS WEEK: Electronic Voting – The Big Li...   \n",
       "\n",
       "                                        cleaned_text  \n",
       "0  tax bill include repeal health insurance manda...  \n",
       "1  priceless watch bill clinton defend hillary cr...  \n",
       "2  crooked hillary getting ready compete creepy j...  \n",
       "3  denies iran report confrontation vessel beirut...  \n",
       "4  fake news week electronic voting big lie die r...  "
      ]
     },
     "execution_count": 8,
     "metadata": {},
     "output_type": "execute_result"
    }
   ],
   "source": [
    "df.head()"
   ]
  },
  {
   "cell_type": "code",
   "execution_count": 9,
   "id": "bdda330a-04f1-491b-856b-45be4113bb12",
   "metadata": {},
   "outputs": [],
   "source": [
    "X = df[\"cleaned_text\"]\n",
    "y = df[\"label\"]\n",
    "X_train, X_test, y_train, y_test = train_test_split(X,y, test_size=0.3 , random_state=42)"
   ]
  },
  {
   "cell_type": "code",
   "execution_count": 10,
   "id": "a274c2d1-e5d6-4617-9962-c8d75a142cfe",
   "metadata": {},
   "outputs": [],
   "source": [
    "vectorizer = TfidfVectorizer() \n",
    "X_train_tf = vectorizer.fit_transform(X_train)\n",
    "X_test_tf = vectorizer.transform(X_test)"
   ]
  },
  {
   "cell_type": "code",
   "execution_count": 11,
   "id": "023bbcb3-d601-4534-a6d5-7cc7d6f741fd",
   "metadata": {},
   "outputs": [],
   "source": [
    "def save_model (model , modelname ) : \n",
    "    import pickle\n",
    "    with open(modelname,'wb') as file:  \n",
    "        pickle.dump(model,file) \n",
    "    print(\"model has been saved successfully\")"
   ]
  },
  {
   "cell_type": "code",
   "execution_count": 12,
   "id": "40f5b235-1c5b-469a-aba7-34ccf79ab44e",
   "metadata": {},
   "outputs": [
    {
     "name": "stdout",
     "output_type": "stream",
     "text": [
      "model has been saved successfully\n"
     ]
    }
   ],
   "source": [
    "save_model(vectorizer, \"Fake_News_Vectorizer\")"
   ]
  },
  {
   "cell_type": "markdown",
   "id": "a903f1a0-ade8-4c02-b04e-cd197792dead",
   "metadata": {},
   "source": [
    "<h2>Logistic Regression model</h2>"
   ]
  },
  {
   "cell_type": "code",
   "execution_count": 12,
   "id": "07b34246-7eae-43bc-bce8-97b17492dcc8",
   "metadata": {},
   "outputs": [
    {
     "name": "stdout",
     "output_type": "stream",
     "text": [
      "Accuracy: 0.9848552338530067\n",
      "Classification Report:\n",
      "                precision    recall  f1-score   support\n",
      "\n",
      "           0       0.99      0.98      0.99      7032\n",
      "           1       0.98      0.99      0.98      6438\n",
      "\n",
      "    accuracy                           0.98     13470\n",
      "   macro avg       0.98      0.98      0.98     13470\n",
      "weighted avg       0.98      0.98      0.98     13470\n",
      "\n"
     ]
    }
   ],
   "source": [
    "logistic = LogisticRegression(max_iter=1000)\n",
    "logistic.fit(X_train_tf,y_train)\n",
    "y_pred = logistic.predict(X_test_tf)\n",
    "print(\"Accuracy:\", accuracy_score(y_test, y_pred))\n",
    "print(\"Classification Report:\\n \", classification_report(y_test,y_pred))"
   ]
  },
  {
   "cell_type": "code",
   "execution_count": 13,
   "id": "8a6a3644-20d2-49b0-b956-83964e47d90d",
   "metadata": {},
   "outputs": [
    {
     "data": {
      "image/png": "[encoded data removed]",
      "text/plain": [
       "<Figure size 640x480 with 2 Axes>"
      ]
     },
     "metadata": {},
     "output_type": "display_data"
    }
   ],
   "source": [
    "cm = confusion_matrix(y_pred, y_test) \n",
    "sns.heatmap(cm, annot=True)\n",
    "plt.title(\"Confusion Matrix for Logistic Regression Model\")\n",
    "plt.show()"
   ]
  },
  {
   "cell_type": "code",
   "execution_count": 14,
   "id": "6c2734e7-be02-42f1-bb09-03f7bede9c24",
   "metadata": {},
   "outputs": [
    {
     "name": "stdout",
     "output_type": "stream",
     "text": [
      "Cross-Validation Scores: [0.9863029  0.98685969 0.98552339 0.98830605 0.98719234]\n",
      "Average Accuracy: 0.9868368707880872\n"
     ]
    }
   ],
   "source": [
    "pipeline = make_pipeline(TfidfVectorizer(), LogisticRegression(max_iter=1000) )\n",
    "scores = cross_val_score(pipeline, X,y , cv = 5, scoring='accuracy')\n",
    "print(\"Cross-Validation Scores:\", scores)\n",
    "print(\"Average Accuracy:\", scores.mean())"
   ]
  },
  {
   "cell_type": "code",
   "execution_count": 15,
   "id": "28aba9ed-9aa5-4a1c-a35c-027a67d26585",
   "metadata": {},
   "outputs": [
    {
     "name": "stdout",
     "output_type": "stream",
     "text": [
      "model has been saved successfully\n"
     ]
    }
   ],
   "source": [
    "save_model(pipeline, \"Fake_news_detection_logistic_98.5%\")"
   ]
  },
  {
   "cell_type": "markdown",
   "id": "22adb879-26ac-4297-a813-e668d397ca84",
   "metadata": {},
   "source": [
    "<h2>Naive Bayes</h2>"
   ]
  },
  {
   "cell_type": "code",
   "execution_count": 16,
   "id": "735c5cb4-97cc-445f-86e6-fdc45fffa44a",
   "metadata": {},
   "outputs": [
    {
     "name": "stdout",
     "output_type": "stream",
     "text": [
      "Accuracy: 0.9358574610244988\n",
      "Classification Report:\n",
      "                precision    recall  f1-score   support\n",
      "\n",
      "           0       0.93      0.95      0.94      7032\n",
      "           1       0.94      0.92      0.93      6438\n",
      "\n",
      "    accuracy                           0.94     13470\n",
      "   macro avg       0.94      0.94      0.94     13470\n",
      "weighted avg       0.94      0.94      0.94     13470\n",
      "\n"
     ]
    }
   ],
   "source": [
    "nb = MultinomialNB()\n",
    "nb.fit(X_train_tf, y_train)\n",
    "y_pred = nb.predict(X_test_tf)\n",
    "\n",
    "print(\"Accuracy:\", accuracy_score(y_test, y_pred))\n",
    "print(\"Classification Report:\\n \", classification_report(y_test,y_pred))"
   ]
  },
  {
   "cell_type": "code",
   "execution_count": 17,
   "id": "857e5669-33a6-44b3-8fe0-b8763205d27f",
   "metadata": {},
   "outputs": [
    {
     "name": "stdout",
     "output_type": "stream",
     "text": [
      "Accuracy:  0.94090571640683\n",
      "Accuracy:  0.940014847809948\n",
      "Accuracy:  0.9386785449146251\n",
      "Accuracy:  0.938604305864885\n",
      "Accuracy:  0.9374164810690423\n",
      "Accuracy:  0.9370452858203415\n",
      "Accuracy:  0.9365256124721604\n",
      "Accuracy:  0.9365256124721604\n",
      "Accuracy:  0.9359317000742391\n"
     ]
    }
   ],
   "source": [
    "alpha_values = np.arange(0.1,1.0,0.1)\n",
    "for alpha in alpha_values: \n",
    "    nb = MultinomialNB(alpha=alpha)\n",
    "    nb.fit(X_train_tf, y_train)\n",
    "    y_pred = nb.predict(X_test_tf)\n",
    "    acc = accuracy_score(y_test, y_pred)\n",
    "    print(\"Accuracy: \", acc)"
   ]
  },
  {
   "cell_type": "code",
   "execution_count": 18,
   "id": "df294602-7fa1-486b-8246-eaef2265bbc2",
   "metadata": {},
   "outputs": [
    {
     "name": "stdout",
     "output_type": "stream",
     "text": [
      "Cross-Validation Scores: [0.94476615 0.94365256 0.93830735 0.94353491 0.9389687 ]\n",
      "Average Accuracy: 0.9418459354926405\n",
      "              precision    recall  f1-score   support\n",
      "\n",
      "           0       0.94      0.95      0.94     23481\n",
      "           1       0.94      0.93      0.94     21417\n",
      "\n",
      "    accuracy                           0.94     44898\n",
      "   macro avg       0.94      0.94      0.94     44898\n",
      "weighted avg       0.94      0.94      0.94     44898\n",
      "\n"
     ]
    }
   ],
   "source": [
    "pipeline = make_pipeline(TfidfVectorizer(), MultinomialNB(alpha=0.1) )\n",
    "scores = cross_val_score(pipeline, X,y , cv = 5, scoring='accuracy')\n",
    "print(\"Cross-Validation Scores:\", scores)\n",
    "print(\"Average Accuracy:\", scores.mean())\n",
    "y_pred = cross_val_predict(pipeline, X,y, cv=5 )\n",
    "print(classification_report(y, y_pred))"
   ]
  },
  {
   "cell_type": "markdown",
   "id": "69ca2109-c364-41b6-85cd-904895300f1b",
   "metadata": {},
   "source": [
    "<h2>Random Forest</h2>"
   ]
  },
  {
   "cell_type": "code",
   "execution_count": 19,
   "id": "bf6bba81-6a73-475c-9155-15f4db00b130",
   "metadata": {},
   "outputs": [
    {
     "name": "stdout",
     "output_type": "stream",
     "text": [
      "Accuracy: 0.9896807720861173\n",
      "Classification Report:\n",
      "                precision    recall  f1-score   support\n",
      "\n",
      "           0       0.99      0.99      0.99      7032\n",
      "           1       0.99      0.99      0.99      6438\n",
      "\n",
      "    accuracy                           0.99     13470\n",
      "   macro avg       0.99      0.99      0.99     13470\n",
      "weighted avg       0.99      0.99      0.99     13470\n",
      "\n"
     ]
    }
   ],
   "source": [
    "rf = RandomForestClassifier(n_estimators=100, random_state=42)\n",
    "rf.fit(X_train_tf, y_train)\n",
    "y_pred = rf.predict(X_test_tf)\n",
    "print(\"Accuracy:\", accuracy_score(y_test, y_pred))\n",
    "print(\"Classification Report:\\n \", classification_report(y_test,y_pred))"
   ]
  },
  {
   "cell_type": "code",
   "execution_count": 22,
   "id": "5121124f-828a-45c0-a708-e6e8ccfc257d",
   "metadata": {},
   "outputs": [
    {
     "data": {
      "image/png": "[encoded data removed]",
      "text/plain": [
       "<Figure size 640x480 with 2 Axes>"
      ]
     },
     "metadata": {},
     "output_type": "display_data"
    }
   ],
   "source": [
    "cm = confusion_matrix(y_pred, y_test) \n",
    "sns.heatmap(cm, annot=True)\n",
    "plt.title(\"Confusion Matrix for Random Forest Model\")\n",
    "plt.show()"
   ]
  },
  {
   "cell_type": "code",
   "execution_count": 23,
   "id": "a6b68ac2-f3da-4f21-8d2e-cba7e737d187",
   "metadata": {},
   "outputs": [
    {
     "name": "stdout",
     "output_type": "stream",
     "text": [
      "Cross-Validation Scores: [0.99242762 0.99276169 0.99187082 0.99142443 0.99142443]\n",
      "Average Accuracy: 0.9919818006429753\n",
      "              precision    recall  f1-score   support\n",
      "\n",
      "           0       0.99      0.99      0.99     23481\n",
      "           1       0.99      0.99      0.99     21417\n",
      "\n",
      "    accuracy                           0.99     44898\n",
      "   macro avg       0.99      0.99      0.99     44898\n",
      "weighted avg       0.99      0.99      0.99     44898\n",
      "\n"
     ]
    }
   ],
   "source": [
    "pipeline_rf = make_pipeline(TfidfVectorizer(), RandomForestClassifier(n_estimators=100, random_state=42) )\n",
    "scores_rf = cross_val_score(pipeline_rf, X,y , cv = 5, scoring='accuracy')\n",
    "print(\"Cross-Validation Scores:\", scores_rf)\n",
    "print(\"Average Accuracy:\", scores_rf.mean())\n",
    "y_pred = cross_val_predict(pipeline_rf, X,y, cv=5 )\n",
    "print(classification_report(y, y_pred))"
   ]
  },
  {
   "cell_type": "code",
   "execution_count": 25,
   "id": "76542c26-7343-4a44-bf79-73b015c27a34",
   "metadata": {},
   "outputs": [
    {
     "name": "stdout",
     "output_type": "stream",
     "text": [
      "reuters       0.069717\n",
      "said          0.023555\n",
      "video         0.019635\n",
      "via           0.017608\n",
      "image         0.015990\n",
      "watch         0.010035\n",
      "featured      0.009309\n",
      "washington    0.008758\n",
      "com           0.005999\n",
      "wednesday     0.005340\n",
      "dtype: float64\n"
     ]
    }
   ],
   "source": [
    "importances = rf.feature_importances_\n",
    "feature_names = vectorizer.get_feature_names_out() \n",
    "\n",
    "top_features = pd.Series(importances, index=feature_names).sort_values(ascending=False).head(10)\n",
    "print(top_features)"
   ]
  },
  {
   "cell_type": "code",
   "execution_count": 32,
   "id": "f4fc9471-bdc0-4634-9275-f9c7df2695af",
   "metadata": {},
   "outputs": [
    {
     "name": "stdout",
     "output_type": "stream",
     "text": [
      "model has been saved successfully\n"
     ]
    }
   ],
   "source": [
    "save_model(rf, \"Fake_news_detection_RandomForest_98.9%\")"
   ]
  },
  {
   "cell_type": "markdown",
   "id": "d3c432f0-7562-4fb1-a804-87e5ad734cf9",
   "metadata": {},
   "source": [
    "<h2>SVM</h2>"
   ]
  },
  {
   "cell_type": "code",
   "execution_count": 13,
   "id": "b41d6fa0-eb63-45e6-8657-69bed52e8629",
   "metadata": {},
   "outputs": [
    {
     "name": "stdout",
     "output_type": "stream",
     "text": [
      "Accuracy: 0.9947290274684484\n",
      "Classification Report:\n",
      "                precision    recall  f1-score   support\n",
      "\n",
      "           0       1.00      0.99      0.99      7109\n",
      "           1       0.99      1.00      0.99      6361\n",
      "\n",
      "    accuracy                           0.99     13470\n",
      "   macro avg       0.99      0.99      0.99     13470\n",
      "weighted avg       0.99      0.99      0.99     13470\n",
      "\n"
     ]
    }
   ],
   "source": [
    "svc = LinearSVC()\n",
    "svc.fit(X_train_tf, y_train)\n",
    "y_pred = svc.predict(X_test_tf)\n",
    "print(\"Accuracy:\", accuracy_score(y_test, y_pred))\n",
    "print(\"Classification Report:\\n \", classification_report(y_test,y_pred))"
   ]
  },
  {
   "cell_type": "code",
   "execution_count": 14,
   "id": "3740c865-ccea-47d8-a15e-89b1e69871e1",
   "metadata": {},
   "outputs": [
    {
     "name": "stdout",
     "output_type": "stream",
     "text": [
      "Accuracy: 0.970007423904974\n",
      "Accuracy: 0.9892353377876764\n",
      "Accuracy: 0.9947290274684484\n",
      "Accuracy: 0.9941351150705271\n",
      "Accuracy: 0.9943578322197476\n"
     ]
    },
    {
     "name": "stderr",
     "output_type": "stream",
     "text": [
      "C:\\Users\\Allaa Azzam\\anaconda\\envs\\new_env\\Lib\\site-packages\\sklearn\\svm\\_base.py:1235: ConvergenceWarning: Liblinear failed to converge, increase the number of iterations.\n",
      "  warnings.warn(\n"
     ]
    }
   ],
   "source": [
    "for c in [0.01,0.1, 1 , 10, 100]: \n",
    "    svc = LinearSVC(C=c)\n",
    "    svc.fit(X_train_tf,y_train)\n",
    "    pred = svc.predict(X_test_tf)\n",
    "    print(\"Accuracy:\", accuracy_score(y_test, pred))"
   ]
  },
  {
   "cell_type": "code",
   "execution_count": 15,
   "id": "a10aab26-3021-4488-9a79-fed604c2ccb2",
   "metadata": {},
   "outputs": [
    {
     "name": "stdout",
     "output_type": "stream",
     "text": [
      "model has been saved successfully\n"
     ]
    }
   ],
   "source": [
    "save_model(svc, \"Fake_news_detection_SVM_99.4%\")"
   ]
  },
  {
   "cell_type": "code",
   "execution_count": 16,
   "id": "4fae678f-cf0d-4d6b-8283-ae86559f2c1c",
   "metadata": {},
   "outputs": [
    {
     "data": {
      "image/png": "[encoded data removed]",
      "text/plain": [
       "<Figure size 640x480 with 2 Axes>"
      ]
     },
     "metadata": {},
     "output_type": "display_data"
    }
   ],
   "source": [
    "cm = confusion_matrix(y_pred, y_test) \n",
    "sns.heatmap(cm, annot=True)\n",
    "plt.title(\"Confusion Matrix for SVM Model\")\n",
    "plt.show()"
   ]
  },
  {
   "cell_type": "code",
   "execution_count": null,
   "id": "419e97b0-8ad3-4f0f-893e-bd5c4453a1b7",
   "metadata": {},
   "outputs": [],
   "source": []
  }
 ],
 "metadata": {
  "kernelspec": {
   "display_name": "Python 3 (ipykernel)",
   "language": "python",
   "name": "python3"
  },
  "language_info": {
   "codemirror_mode": {
    "name": "ipython",
    "version": 3
   },
   "file_extension": ".py",
   "mimetype": "text/x-python",
   "name": "python",
   "nbconvert_exporter": "python",
   "pygments_lexer": "ipython3",
   "version": "3.13.0"
  }
 },
 "nbformat": 4,
 "nbformat_minor": 5
}
